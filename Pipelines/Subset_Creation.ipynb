{
 "cells": [
  {
   "cell_type": "markdown",
   "metadata": {},
   "source": [
    "# Generating the data using python scripts"
   ]
  },
  {
   "cell_type": "markdown",
   "metadata": {},
   "source": [
    "Table of Contents:\n"
   ]
  },
  {
   "cell_type": "code",
   "execution_count": 2,
   "metadata": {},
   "outputs": [],
   "source": [
    "import os"
   ]
  },
  {
   "cell_type": "markdown",
   "metadata": {},
   "source": [
    "## 1. Generate the sections"
   ]
  },
  {
   "cell_type": "code",
   "execution_count": 5,
   "metadata": {},
   "outputs": [],
   "source": [
    "# set correct paths\n",
    "path_to_directory = 'C:/Users/Chloe/Documents/MaastrichtLaw&Tech/Thesis/MscThesis'\n",
    "\n",
    "# Change the current working directory\n",
    "os.chdir(path_to_directory)"
   ]
  },
  {
   "cell_type": "code",
   "execution_count": 6,
   "metadata": {},
   "outputs": [
    {
     "name": "stdout",
     "output_type": "stream",
     "text": [
      "Gathering documents...\n",
      "Processing document number: 0 of 10458\n",
      "    Unnamed: 0                   ecli        date  \\\n",
      "0           23  ECLI:NL:CBB:2020:1024  2020-12-22   \n",
      "1           30  ECLI:NL:CBB:2020:1030  2020-12-22   \n",
      "2           31  ECLI:NL:CBB:2020:1031  2020-12-22   \n",
      "3           33  ECLI:NL:CBB:2020:1033  2020-12-21   \n",
      "4           39   ECLI:NL:CBB:2020:108  2020-02-25   \n",
      "..         ...                    ...         ...   \n",
      "95         486   ECLI:NL:CBB:2020:540  2020-08-11   \n",
      "96         494   ECLI:NL:CBB:2020:549  2020-08-18   \n",
      "97         499   ECLI:NL:CBB:2020:553  2020-08-18   \n",
      "98         500   ECLI:NL:CBB:2020:554  2020-08-18   \n",
      "99         507   ECLI:NL:CBB:2020:560  2020-08-06   \n",
      "\n",
      "                                     inhoudsindicatie  \\\n",
      "0   \\nRegeling fosfaatreductieplan 2017. Geen verg...   \n",
      "1   \\n\\nartikel 23, derde lid, van de Meststoffenw...   \n",
      "2   \\n\\nMeststoffenwet\\nAppellant is er niet in ge...   \n",
      "3   \\nBeslissing ogv art 8:29 Awb. Beperking kenni...   \n",
      "4   \\nAwb 6:7, 6:8 en 6:11 Bezwaar niet-ontvankeli...   \n",
      "..                                                ...   \n",
      "95  \\n\\nRegeling fosfaatreductieplan 2017\\nKnelgev...   \n",
      "96  \\nVerzetten ongegrond. Griffierecht niet tijdi...   \n",
      "97  \\nVerzetten ongegrond. Griffierecht niet tijdi...   \n",
      "98  \\nVerzetten ongegrond. Griffierecht niet tijdi...   \n",
      "99  \\n\\nMeststoffenwet artikel 23, derde lid. \\nHe...   \n",
      "\n",
      "                                    instantie   rechtsgebied  \\\n",
      "0   College van Beroep voor het bedrijfsleven  Bestuursrecht   \n",
      "1   College van Beroep voor het bedrijfsleven  Bestuursrecht   \n",
      "2   College van Beroep voor het bedrijfsleven  Bestuursrecht   \n",
      "3   College van Beroep voor het bedrijfsleven  Bestuursrecht   \n",
      "4   College van Beroep voor het bedrijfsleven  Bestuursrecht   \n",
      "..                                        ...            ...   \n",
      "95  College van Beroep voor het bedrijfsleven  Bestuursrecht   \n",
      "96  College van Beroep voor het bedrijfsleven  Bestuursrecht   \n",
      "97  College van Beroep voor het bedrijfsleven  Bestuursrecht   \n",
      "98  College van Beroep voor het bedrijfsleven  Bestuursrecht   \n",
      "99  College van Beroep voor het bedrijfsleven  Bestuursrecht   \n",
      "\n",
      "                       wetsverwijzing  \\\n",
      "0   Regeling fosfaatreductieplan 2017   \n",
      "1                      Meststoffenwet   \n",
      "2                      Meststoffenwet   \n",
      "3     Algemene wet bestuursrecht 8:29   \n",
      "4                                 NaN   \n",
      "..                                ...   \n",
      "95                                NaN   \n",
      "96                                NaN   \n",
      "97                                NaN   \n",
      "98                                NaN   \n",
      "99                                NaN   \n",
      "\n",
      "                                        procesverloop  \\\n",
      "0   \\nProcesverloop \\n\\n\\nBij besluiten van 2 dece...   \n",
      "1   \\nProcesverloop \\n\\n\\nBij besluit van 3 januar...   \n",
      "2   \\nProcesverloop \\n\\n\\nBij besluit van 10 janua...   \n",
      "3   \\nProcesverloop \\n\\n\\nAppellant heeft beroep i...   \n",
      "4   \\nProcesverloop \\n\\n\\nBij besluit van 18 mei 2...   \n",
      "..                                                ...   \n",
      "95  \\nProcesverloop \\n\\n\\nBij besluit van 25 novem...   \n",
      "96  \\nProcesverloop\\n\\n\\nAppellanten hebben beroep...   \n",
      "97  \\nProcesverloop\\n\\n\\nAppellanten hebben beroep...   \n",
      "98  \\nProcesverloop\\n\\n\\nAppellante heeft beroep i...   \n",
      "99  \\nProcesverloop \\n\\n\\nBij besluit van 13 janua...   \n",
      "\n",
      "                                         overwegingen  \\\n",
      "0   \\nOverwegingen \\n\\n\\nArtikel 8:75a, eerste lid...   \n",
      "1   \\nOverwegingen \\n\\n\\n\\nRelevante bepalingen\\n\\...   \n",
      "2   \\nOverwegingen \\n\\n\\n\\nRelevante bepalingen\\n\\...   \n",
      "3   \\nOverwegingen \\n\\n1. Op grond van artikel 8:2...   \n",
      "4   \\nOverwegingen \\n\\n\\n1.1.\\nBij het bestreden b...   \n",
      "..                                                ...   \n",
      "95  \\nOverwegingen \\n\\n\\nDe Regeling is op 1 maart...   \n",
      "96  \\nOverwegingen\\n\\n1. De gemachtigde van appell...   \n",
      "97  \\nOverwegingen\\n\\n1. De gemachtigde van appell...   \n",
      "98  \\nOverwegingen\\n\\n1. De gemachtigde van appell...   \n",
      "99  \\nOverwegingen \\n\\n\\n1.\\tAppellante heeft in b...   \n",
      "\n",
      "                                           beslissing    year  \\\n",
      "0   \\nBeslissing\\n\\n\\nHet College\\n\\n\\n\\n- wijst h...  2020.0   \n",
      "1   \\nBeslissing\\n\\n\\nHet College verklaart het be...  2020.0   \n",
      "2   \\nBeslissing\\n\\n\\nHet College verklaart het be...  2020.0   \n",
      "3   \\nBeslissing\\n\\n\\nHet College: \\n\\n\\n\\nbeslist...  2020.0   \n",
      "4   \\nBeslissing\\n\\n\\nHet College verklaart het be...  2020.0   \n",
      "..                                                ...     ...   \n",
      "95  \\nBeslissing\\n\\n\\nHet College\\n- verklaart het...  2020.0   \n",
      "96  \\nBeslissing\\n\\n\\nHet College verklaart de ver...  2020.0   \n",
      "97  \\nBeslissing\\n\\n\\nHet College verklaart de ver...  2020.0   \n",
      "98  \\nBeslissing\\n\\n\\nHet College verklaart het ve...  2020.0   \n",
      "99  \\nBeslissing\\n\\n\\nHet College verklaart het be...  2020.0   \n",
      "\n",
      "                                             sections  \n",
      "0                                                  []  \n",
      "1   [1.1\\nIngevolge artikel23, derde lid, van de M...  \n",
      "2   [1.1\\nIngevolge artikel23, derde lid, van de M...  \n",
      "3   [1. Op grond van artikel8:29, derde lid, Awb b...  \n",
      "4   [2.\\t Het College overweegt als volgt.\\n\\n\\n\\n...  \n",
      "..                                                ...  \n",
      "95  [3. Appellante exploiteert een gemengd bedrijf...  \n",
      "96  [1. De gemachtigde van appellanten heeft namen...  \n",
      "97  [1. De gemachtigde van appellanten heeft namen...  \n",
      "98  [1. De gemachtigde van appellante heeft namens...  \n",
      "99  [1.\\tAppellante heeft in beroep aangevoerd dat...  \n",
      "\n",
      "[100 rows x 12 columns]\n"
     ]
    }
   ],
   "source": [
    "%run Dataset/Creation/create_sections.py"
   ]
  },
  {
   "cell_type": "code",
   "execution_count": 7,
   "metadata": {},
   "outputs": [
    {
     "name": "stdout",
     "output_type": "stream",
     "text": [
      "{}\n"
     ]
    }
   ],
   "source": [
    "%run Dataset/Creation/create_section_dict.py"
   ]
  }
 ],
 "metadata": {
  "kernelspec": {
   "display_name": "summ",
   "language": "python",
   "name": "python3"
  },
  "language_info": {
   "codemirror_mode": {
    "name": "ipython",
    "version": 3
   },
   "file_extension": ".py",
   "mimetype": "text/x-python",
   "name": "python",
   "nbconvert_exporter": "python",
   "pygments_lexer": "ipython3",
   "version": "3.9.18"
  }
 },
 "nbformat": 4,
 "nbformat_minor": 2
}
